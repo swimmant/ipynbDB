{
 "cells": [
  {
   "cell_type": "markdown",
   "id": "0a89d74a",
   "metadata": {},
   "source": [
    "# GPU的使用和选购"
   ]
  },
  {
   "cell_type": "markdown",
   "id": "dd204042",
   "metadata": {},
   "source": [
    "## 1、查看设备"
   ]
  },
  {
   "cell_type": "code",
   "execution_count": 2,
   "id": "e1bea179",
   "metadata": {
    "scrolled": true
   },
   "outputs": [
    {
     "name": "stdout",
     "output_type": "stream",
     "text": [
      "Mon Nov 15 18:56:56 2021       \r\n",
      "+-----------------------------------------------------------------------------+\r\n",
      "| NVIDIA-SMI 440.33.01    Driver Version: 440.33.01    CUDA Version: 10.2     |\r\n",
      "|-------------------------------+----------------------+----------------------+\r\n",
      "| GPU  Name        Persistence-M| Bus-Id        Disp.A | Volatile Uncorr. ECC |\r\n",
      "| Fan  Temp  Perf  Pwr:Usage/Cap|         Memory-Usage | GPU-Util  Compute M. |\r\n",
      "|===============================+======================+======================|\r\n",
      "|   0  TITAN Xp            Off  | 00000000:01:00.0  On |                  N/A |\r\n",
      "| 23%   34C    P8    10W / 250W |    163MiB / 12190MiB |      0%      Default |\r\n",
      "+-------------------------------+----------------------+----------------------+\r\n",
      "|   1  GeForce RTX 208...  Off  | 00000000:02:00.0 Off |                  N/A |\r\n",
      "| 27%   34C    P8    13W / 250W |   1725MiB / 11019MiB |      0%      Default |\r\n",
      "+-------------------------------+----------------------+----------------------+\r\n",
      "                                                                               \r\n",
      "+-----------------------------------------------------------------------------+\r\n",
      "| Processes:                                                       GPU Memory |\r\n",
      "|  GPU       PID   Type   Process name                             Usage      |\r\n",
      "|=============================================================================|\r\n",
      "|    0      1098      G   /usr/lib/xorg/Xorg                           112MiB |\r\n",
      "|    0      2704      G   compiz                                        37MiB |\r\n",
      "|    1      4977      C   python                                      1713MiB |\r\n",
      "+-----------------------------------------------------------------------------+\r\n"
     ]
    }
   ],
   "source": [
    "!nvidia-smi"
   ]
  },
  {
   "cell_type": "markdown",
   "id": "72e40d85",
   "metadata": {},
   "source": [
    "### 1.1、计算设备"
   ]
  },
  {
   "cell_type": "code",
   "execution_count": 7,
   "id": "5c43a236",
   "metadata": {},
   "outputs": [
    {
     "data": {
      "text/plain": [
       "(device(type='cpu'),\n",
       " <torch.cuda.device at 0x7ff893603130>,\n",
       " <torch.cuda.device at 0x7ff893603310>)"
      ]
     },
     "execution_count": 7,
     "metadata": {},
     "output_type": "execute_result"
    }
   ],
   "source": [
    "import torch\n",
    "from torch import nn\n",
    "torch.device('cpu'),torch.cuda.device('cuda'),torch.cuda.device('cuda:1')"
   ]
  },
  {
   "cell_type": "markdown",
   "id": "393c8cc6",
   "metadata": {},
   "source": [
    "### 1.2、查看可用gpu数量"
   ]
  },
  {
   "cell_type": "code",
   "execution_count": 8,
   "id": "3a64cc6f",
   "metadata": {},
   "outputs": [
    {
     "data": {
      "text/plain": [
       "2"
      ]
     },
     "execution_count": 8,
     "metadata": {},
     "output_type": "execute_result"
    }
   ],
   "source": [
    "torch.cuda.device_count()"
   ]
  },
  {
   "cell_type": "markdown",
   "id": "8cffde27",
   "metadata": {},
   "source": [
    "### 1.3、定义当gpu不存在时运行代码"
   ]
  },
  {
   "cell_type": "code",
   "execution_count": 11,
   "id": "986c05d8",
   "metadata": {},
   "outputs": [
    {
     "data": {
      "text/plain": [
       "(device(type='cuda', index=0),\n",
       " device(type='cpu'),\n",
       " [device(type='cuda', index=0), device(type='cuda', index=1)])"
      ]
     },
     "execution_count": 11,
     "metadata": {},
     "output_type": "execute_result"
    }
   ],
   "source": [
    "def try_gpu(i=0):\n",
    "    \"\"\"如果存在，则返回gpu(i),否则返回cpu()\"\"\"\n",
    "    if torch.cuda.device_count()>=i+1:\n",
    "        return torch.device(f'cuda:{i}')\n",
    "    return torch.device('cpu')\n",
    "\n",
    "def try_all_gpus():\n",
    "    \"\"\"返回所有可用的GPU，如果没有GPU，则返回[cpu,]\"\"\"\n",
    "    devices = [torch.device(f'cuda:{i}') for i in range(torch.cuda.device_count())]\n",
    "    return devices if devices else [torch.device('cpu')]\n",
    "\n",
    "try_gpu(), try_gpu(10),try_all_gpus()"
   ]
  },
  {
   "cell_type": "markdown",
   "id": "96caad29",
   "metadata": {},
   "source": [
    "## 2、gpu上数据计算"
   ]
  },
  {
   "cell_type": "markdown",
   "id": "6626f840",
   "metadata": {},
   "source": [
    "### 2.1、查询张量所在设备"
   ]
  },
  {
   "cell_type": "code",
   "execution_count": 12,
   "id": "036008bf",
   "metadata": {},
   "outputs": [
    {
     "data": {
      "text/plain": [
       "device(type='cpu')"
      ]
     },
     "execution_count": 12,
     "metadata": {},
     "output_type": "execute_result"
    }
   ],
   "source": [
    "x = torch.tensor([1,2,3])           #默认在cpu内存上\n",
    "x.device"
   ]
  },
  {
   "cell_type": "markdown",
   "id": "ea3a7c04",
   "metadata": {},
   "source": [
    "## 2.2、创建在gpu"
   ]
  },
  {
   "cell_type": "code",
   "execution_count": 14,
   "id": "4e43b707",
   "metadata": {},
   "outputs": [
    {
     "data": {
      "text/plain": [
       "tensor([[1., 1., 1.],\n",
       "        [1., 1., 1.]], device='cuda:0')"
      ]
     },
     "execution_count": 14,
     "metadata": {},
     "output_type": "execute_result"
    }
   ],
   "source": [
    "\n",
    "X = torch.ones(2,3,device=try_gpu())\n",
    "X"
   ]
  },
  {
   "cell_type": "markdown",
   "id": "2171f111",
   "metadata": {},
   "source": [
    "## 2.3、在第二个GPU上创建随机张量"
   ]
  },
  {
   "cell_type": "code",
   "execution_count": 17,
   "id": "e1b64cd9",
   "metadata": {},
   "outputs": [
    {
     "data": {
      "text/plain": [
       "tensor([[0.4411, 0.3717, 0.7920],\n",
       "        [0.5166, 0.7394, 0.6777]], device='cuda:1')"
      ]
     },
     "execution_count": 17,
     "metadata": {},
     "output_type": "execute_result"
    }
   ],
   "source": [
    "Y = torch.rand(2,3,device=try_gpu(1))\n",
    "Y"
   ]
  },
  {
   "cell_type": "markdown",
   "id": "437227f3",
   "metadata": {},
   "source": [
    "## 2.4、要计算X+Y，需要决定在哪执行操作"
   ]
  },
  {
   "cell_type": "code",
   "execution_count": 18,
   "id": "bfd030f2",
   "metadata": {},
   "outputs": [
    {
     "name": "stdout",
     "output_type": "stream",
     "text": [
      "tensor([[1., 1., 1.],\n",
      "        [1., 1., 1.]], device='cuda:0')\n",
      "tensor([[1., 1., 1.],\n",
      "        [1., 1., 1.]], device='cuda:1')\n"
     ]
    }
   ],
   "source": [
    "\n",
    "Z = X.cuda(1)\n",
    "print(X)\n",
    "print(Z)"
   ]
  },
  {
   "cell_type": "markdown",
   "id": "a0704903",
   "metadata": {},
   "source": [
    "现在数据在同一GPU上，可以见它们相加"
   ]
  },
  {
   "cell_type": "code",
   "execution_count": 19,
   "id": "33c2e143",
   "metadata": {},
   "outputs": [
    {
     "data": {
      "text/plain": [
       "tensor([[1.4411, 1.3717, 1.7920],\n",
       "        [1.5166, 1.7394, 1.6777]], device='cuda:1')"
      ]
     },
     "execution_count": 19,
     "metadata": {},
     "output_type": "execute_result"
    }
   ],
   "source": [
    "Y+Z"
   ]
  },
  {
   "cell_type": "code",
   "execution_count": 20,
   "id": "de2dc1ab",
   "metadata": {},
   "outputs": [
    {
     "data": {
      "text/plain": [
       "True"
      ]
     },
     "execution_count": 20,
     "metadata": {},
     "output_type": "execute_result"
    }
   ],
   "source": [
    "Z.cuda(1) is Z             #如果Z在cuda：1 ，就不会将Z进行copy"
   ]
  },
  {
   "cell_type": "markdown",
   "id": "a1c03d22",
   "metadata": {},
   "source": [
    "## 3、神经网络与GPU"
   ]
  },
  {
   "cell_type": "code",
   "execution_count": 21,
   "id": "95e2f85a",
   "metadata": {},
   "outputs": [
    {
     "data": {
      "text/plain": [
       "tensor([[-1.1968],\n",
       "        [-1.1968]], device='cuda:0', grad_fn=<AddmmBackward>)"
      ]
     },
     "execution_count": 21,
     "metadata": {},
     "output_type": "execute_result"
    }
   ],
   "source": [
    "net = nn.Sequential(nn.Linear(3,1))\n",
    "net = net.to(device=try_gpu())                #将所有参数copy到0号GPU\n",
    "\n",
    "net(X)"
   ]
  },
  {
   "cell_type": "markdown",
   "id": "a6af67d2",
   "metadata": {},
   "source": [
    "确认模型参数存储在同一GPU上"
   ]
  },
  {
   "cell_type": "code",
   "execution_count": 22,
   "id": "96857153",
   "metadata": {},
   "outputs": [
    {
     "data": {
      "text/plain": [
       "device(type='cuda', index=0)"
      ]
     },
     "execution_count": 22,
     "metadata": {},
     "output_type": "execute_result"
    }
   ],
   "source": [
    "net[0].weight.data.device                  #模型参数在0号GPU"
   ]
  },
  {
   "cell_type": "code",
   "execution_count": null,
   "id": "2e4326c7",
   "metadata": {},
   "outputs": [],
   "source": []
  },
  {
   "cell_type": "markdown",
   "id": "3b68e2b9",
   "metadata": {},
   "source": [
    "## 购买GPU"
   ]
  },
  {
   "cell_type": "markdown",
   "id": "1ccda984",
   "metadata": {},
   "source": [
    "两件事比较重要：①显存 ②计算能力：每秒钟计算浮点数次数 ③价格"
   ]
  },
  {
   "cell_type": "code",
   "execution_count": null,
   "id": "b525312a",
   "metadata": {},
   "outputs": [],
   "source": [
    "①买新的不买旧的 ②买承受最贵的"
   ]
  },
  {
   "cell_type": "code",
   "execution_count": null,
   "id": "fe6fa99f",
   "metadata": {},
   "outputs": [],
   "source": []
  },
  {
   "cell_type": "code",
   "execution_count": null,
   "id": "bac73673",
   "metadata": {},
   "outputs": [],
   "source": []
  },
  {
   "cell_type": "code",
   "execution_count": null,
   "id": "b59f0f1f",
   "metadata": {},
   "outputs": [],
   "source": []
  }
 ],
 "metadata": {
  "kernelspec": {
   "display_name": "Python [conda env:torch18]",
   "language": "python",
   "name": "conda-env-torch18-py"
  },
  "language_info": {
   "codemirror_mode": {
    "name": "ipython",
    "version": 3
   },
   "file_extension": ".py",
   "mimetype": "text/x-python",
   "name": "python",
   "nbconvert_exporter": "python",
   "pygments_lexer": "ipython3",
   "version": "3.8.12"
  },
  "latex_envs": {
   "LaTeX_envs_menu_present": true,
   "autoclose": false,
   "autocomplete": true,
   "bibliofile": "biblio.bib",
   "cite_by": "apalike",
   "current_citInitial": 1,
   "eqLabelWithNumbers": true,
   "eqNumInitial": 1,
   "hotkeys": {
    "equation": "Ctrl-E",
    "itemize": "Ctrl-I"
   },
   "labels_anchors": false,
   "latex_user_defs": false,
   "report_style_numbering": false,
   "user_envs_cfg": false
  }
 },
 "nbformat": 4,
 "nbformat_minor": 5
}
