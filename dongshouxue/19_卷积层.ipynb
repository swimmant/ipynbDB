{
 "cells": [
  {
   "cell_type": "markdown",
   "id": "33c2d7c0",
   "metadata": {},
   "source": [
    "# 图像卷积"
   ]
  },
  {
   "cell_type": "markdown",
   "id": "c68c194f",
   "metadata": {},
   "source": [
    "互相关运算"
   ]
  },
  {
   "cell_type": "code",
   "execution_count": 1,
   "id": "c272b214",
   "metadata": {},
   "outputs": [],
   "source": [
    "import torch\n",
    "from torch import nn\n",
    "from d2l import torch as d2l\n",
    "\n",
    "def corr2d(X,K):                    #X为输入 ，K为核矩阵\n",
    "    \"\"\"计算二维互相关运算\"\"\"\n",
    "    h,w  =K.shape                    #拿出核矩阵的高宽\n",
    "    Y = torch.zeros((X.shape[0]-h+1 ,X.shape[1]-w+1))        #初始输出矩阵\n",
    "    for i in range(Y.shape[0]):                       #遍历所有Y的元素，一一做计算\n",
    "        for j in range(Y.shape[1]):\n",
    "            Y[i,j] = (X[i:i+h,j:j+w]*K).sum()          #第i,j的输出 = X的i行到i+h行，j列到j+w列 （小区域）和K做点积，求和\n",
    "    return Y"
   ]
  },
  {
   "cell_type": "markdown",
   "id": "862d14bd",
   "metadata": {},
   "source": [
    "验证上述二维互相关运算的输出"
   ]
  },
  {
   "cell_type": "code",
   "execution_count": 4,
   "id": "d6b4f210",
   "metadata": {},
   "outputs": [
    {
     "data": {
      "text/plain": [
       "tensor([[19., 25.],\n",
       "        [37., 43.]])"
      ]
     },
     "execution_count": 4,
     "metadata": {},
     "output_type": "execute_result"
    }
   ],
   "source": [
    "X = torch.tensor([[0.0,1.0,2.0],[3.0,4.0,5.0],[6.0,7.0,8.0]])\n",
    "K = torch.tensor([[0.0,1.0],[2.0,3.0]])\n",
    "corr2d(X,K)"
   ]
  },
  {
   "cell_type": "markdown",
   "id": "d5b1deb4",
   "metadata": {},
   "source": [
    "## 1、实现二维卷积"
   ]
  },
  {
   "cell_type": "code",
   "execution_count": null,
   "id": "44e08c81",
   "metadata": {},
   "outputs": [],
   "source": [
    "class Conv2d(nn.Module):\n",
    "    def __init__(self,kernel_size):                           #kernel_size超参数\n",
    "        super().__init__()\n",
    "        self.weight = nn.Parameter(torch.rand(kernel_size))\n",
    "        self.bias = nn.Parameter(torch.zeros(1))\n",
    "        \n",
    "    def forward(self,x):\n",
    "        return corr2d(x , self.weight)+self.bias"
   ]
  },
  {
   "cell_type": "markdown",
   "id": "a497f988",
   "metadata": {},
   "source": [
    "卷积层简单应用：检测图像中不同颜色的边缘"
   ]
  },
  {
   "cell_type": "code",
   "execution_count": 6,
   "id": "89c9d929",
   "metadata": {},
   "outputs": [
    {
     "data": {
      "text/plain": [
       "tensor([[1., 1., 0., 0., 0., 0., 1., 1.],\n",
       "        [1., 1., 0., 0., 0., 0., 1., 1.],\n",
       "        [1., 1., 0., 0., 0., 0., 1., 1.],\n",
       "        [1., 1., 0., 0., 0., 0., 1., 1.],\n",
       "        [1., 1., 0., 0., 0., 0., 1., 1.],\n",
       "        [1., 1., 0., 0., 0., 0., 1., 1.]])"
      ]
     },
     "execution_count": 6,
     "metadata": {},
     "output_type": "execute_result"
    }
   ],
   "source": [
    "X = torch.ones((6,8))\n",
    "X[:,2:6] = 0\n",
    "X"
   ]
  },
  {
   "cell_type": "code",
   "execution_count": 10,
   "id": "715d36e2",
   "metadata": {},
   "outputs": [],
   "source": [
    "K = torch.tensor([[1.0,-1.0]])"
   ]
  },
  {
   "cell_type": "markdown",
   "id": "544e7fed",
   "metadata": {},
   "source": [
    "输出Y中的1代表白色到黑色边缘，-1代表从黑色到白色的边缘"
   ]
  },
  {
   "cell_type": "code",
   "execution_count": 11,
   "id": "b69c349a",
   "metadata": {},
   "outputs": [
    {
     "data": {
      "text/plain": [
       "tensor([[ 0.,  1.,  0.,  0.,  0., -1.,  0.],\n",
       "        [ 0.,  1.,  0.,  0.,  0., -1.,  0.],\n",
       "        [ 0.,  1.,  0.,  0.,  0., -1.,  0.],\n",
       "        [ 0.,  1.,  0.,  0.,  0., -1.,  0.],\n",
       "        [ 0.,  1.,  0.,  0.,  0., -1.,  0.],\n",
       "        [ 0.,  1.,  0.,  0.,  0., -1.,  0.]])"
      ]
     },
     "execution_count": 11,
     "metadata": {},
     "output_type": "execute_result"
    }
   ],
   "source": [
    "Y= corr2d(X ,K)\n",
    "Y"
   ]
  },
  {
   "cell_type": "markdown",
   "id": "b33f3f1b",
   "metadata": {},
   "source": [
    "卷积核K只能检测垂直边缘"
   ]
  },
  {
   "cell_type": "code",
   "execution_count": 13,
   "id": "a44182b6",
   "metadata": {},
   "outputs": [
    {
     "data": {
      "text/plain": [
       "tensor([[0., 0., 0., 0., 0.],\n",
       "        [0., 0., 0., 0., 0.],\n",
       "        [0., 0., 0., 0., 0.],\n",
       "        [0., 0., 0., 0., 0.],\n",
       "        [0., 0., 0., 0., 0.],\n",
       "        [0., 0., 0., 0., 0.],\n",
       "        [0., 0., 0., 0., 0.],\n",
       "        [0., 0., 0., 0., 0.]])"
      ]
     },
     "execution_count": 13,
     "metadata": {},
     "output_type": "execute_result"
    }
   ],
   "source": [
    "corr2d(X.T,K)                 #X转置后就检测不出来了"
   ]
  },
  {
   "cell_type": "markdown",
   "id": "f9839ce2",
   "metadata": {},
   "source": [
    "## 2、给定X,Y,学习K"
   ]
  },
  {
   "cell_type": "code",
   "execution_count": 16,
   "id": "5de5b79c",
   "metadata": {},
   "outputs": [
    {
     "name": "stdout",
     "output_type": "stream",
     "text": [
      "batch2,loss6.114\n",
      "batch4,loss1.028\n",
      "batch6,loss0.173\n",
      "batch8,loss0.029\n",
      "batch10,loss0.005\n"
     ]
    }
   ],
   "source": [
    "conv2d = nn.Conv2d(1,1,kernel_size=(1,2),bias=False)     #参数说明[输入通道，输出通道，核大小，偏执]\n",
    "\n",
    "X= X.reshape((1,1,6,8))             #对于Convd来说输入都是4d的， 【输入通道数，批大小，高，宽】\n",
    "Y = Y.reshape((1,1,6,7))\n",
    "\n",
    "for i in range(10):\n",
    "    Y_hat = conv2d(X)\n",
    "    l = (Y_hat - Y) **2          #均方误差\n",
    "    conv2d.zero_grad()\n",
    "    l.sum().backward()\n",
    "    conv2d.weight.data[:] -= 3e-2 * conv2d.weight.grad            #直接修改weight；裸写SGD\n",
    "    if(i+1)%2 == 0:\n",
    "        print(f'batch{i+1},loss{l.sum():.3f}')"
   ]
  },
  {
   "cell_type": "markdown",
   "id": "5da937af",
   "metadata": {},
   "source": [
    "所学卷积核的权重张量"
   ]
  },
  {
   "cell_type": "code",
   "execution_count": 17,
   "id": "6106fc5d",
   "metadata": {},
   "outputs": [
    {
     "data": {
      "text/plain": [
       "tensor([[ 0.9888, -0.9855]])"
      ]
     },
     "execution_count": 17,
     "metadata": {},
     "output_type": "execute_result"
    }
   ],
   "source": [
    "conv2d.weight.data.reshape((1,2))"
   ]
  }
 ],
 "metadata": {
  "kernelspec": {
   "display_name": "Python [conda env:torch18]",
   "language": "python",
   "name": "conda-env-torch18-py"
  },
  "language_info": {
   "codemirror_mode": {
    "name": "ipython",
    "version": 3
   },
   "file_extension": ".py",
   "mimetype": "text/x-python",
   "name": "python",
   "nbconvert_exporter": "python",
   "pygments_lexer": "ipython3",
   "version": "3.8.12"
  },
  "latex_envs": {
   "LaTeX_envs_menu_present": true,
   "autoclose": false,
   "autocomplete": true,
   "bibliofile": "biblio.bib",
   "cite_by": "apalike",
   "current_citInitial": 1,
   "eqLabelWithNumbers": true,
   "eqNumInitial": 1,
   "hotkeys": {
    "equation": "Ctrl-E",
    "itemize": "Ctrl-I"
   },
   "labels_anchors": false,
   "latex_user_defs": false,
   "report_style_numbering": false,
   "user_envs_cfg": false
  }
 },
 "nbformat": 4,
 "nbformat_minor": 5
}
