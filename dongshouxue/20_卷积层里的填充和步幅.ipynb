{
 "cells": [
  {
   "cell_type": "markdown",
   "id": "5b63aece",
   "metadata": {},
   "source": [
    "# 1、填充和步幅"
   ]
  },
  {
   "cell_type": "markdown",
   "id": "e1e86e60",
   "metadata": {},
   "source": [
    "在所有侧边填充1个像素"
   ]
  },
  {
   "cell_type": "code",
   "execution_count": 4,
   "id": "0fd695c1",
   "metadata": {},
   "outputs": [
    {
     "data": {
      "text/plain": [
       "torch.Size([8, 8])"
      ]
     },
     "execution_count": 4,
     "metadata": {},
     "output_type": "execute_result"
    }
   ],
   "source": [
    "import torch \n",
    "from torch import nn\n",
    "def com_conv2d(conv2d,X):\n",
    "    X = X.reshape((1,1)+X.shape)                  #在维度数前面添加通道数和批量大小   \n",
    "    Y = conv2d(X)\n",
    "    return Y.reshape(Y.shape[2:])               #出来时四维，将前两维拿掉\n",
    "\n",
    "conv2d = nn.Conv2d(1,1,kernel_size=3,padding=1)      #计算时是左右共填充2； 8+2-3+1 =8\n",
    "X = torch.rand(size=(8,8))\n",
    "com_conv2d(conv2d,X).shape"
   ]
  },
  {
   "cell_type": "markdown",
   "id": "7ccac366",
   "metadata": {},
   "source": [
    "## 1.2、填充不同高度和宽度"
   ]
  },
  {
   "cell_type": "markdown",
   "id": "133de58e",
   "metadata": {},
   "source": [
    "如果kernel不一致，可以调整padding使输出还是8*8"
   ]
  },
  {
   "cell_type": "code",
   "execution_count": 7,
   "id": "ca05edf1",
   "metadata": {},
   "outputs": [
    {
     "data": {
      "text/plain": [
       "torch.Size([8, 8])"
      ]
     },
     "execution_count": 7,
     "metadata": {},
     "output_type": "execute_result"
    }
   ],
   "source": [
    "conv2d = nn.Conv2d(1,1,kernel_size=(5,3),padding=(2,1))\n",
    "com_conv2d(conv2d,X).shape"
   ]
  },
  {
   "cell_type": "markdown",
   "id": "2a9d1ccd",
   "metadata": {},
   "source": [
    "## 2、将高度和宽度步幅设置为2"
   ]
  },
  {
   "cell_type": "code",
   "execution_count": 10,
   "id": "f2638f82",
   "metadata": {},
   "outputs": [
    {
     "data": {
      "text/plain": [
       "torch.Size([4, 4])"
      ]
     },
     "execution_count": 10,
     "metadata": {},
     "output_type": "execute_result"
    }
   ],
   "source": [
    "conv2d = nn.Conv2d(1,1,kernel_size=3,padding=1,stride=2)\n",
    "com_conv2d(conv2d,X).shape"
   ]
  },
  {
   "cell_type": "markdown",
   "id": "4ca22698",
   "metadata": {},
   "source": [
    "一个稍微复杂的例子"
   ]
  },
  {
   "cell_type": "markdown",
   "id": "fe630107",
   "metadata": {},
   "source": [
    "```(8+0-3+1+3)/3*(8+1-5+1+4)/4  -->2*2 ```"
   ]
  },
  {
   "cell_type": "code",
   "execution_count": 12,
   "id": "0ca68d87",
   "metadata": {
    "scrolled": true
   },
   "outputs": [
    {
     "data": {
      "text/plain": [
       "torch.Size([2, 2])"
      ]
     },
     "execution_count": 12,
     "metadata": {},
     "output_type": "execute_result"
    }
   ],
   "source": [
    "conv2d = nn.Conv2d(1,1,kernel_size=(3,5),padding=(0,1),stride=(3,4))\n",
    "com_conv2d(conv2d,X).shape"
   ]
  }
 ],
 "metadata": {
  "kernelspec": {
   "display_name": "Python [conda env:torch18]",
   "language": "python",
   "name": "conda-env-torch18-py"
  },
  "language_info": {
   "codemirror_mode": {
    "name": "ipython",
    "version": 3
   },
   "file_extension": ".py",
   "mimetype": "text/x-python",
   "name": "python",
   "nbconvert_exporter": "python",
   "pygments_lexer": "ipython3",
   "version": "3.8.12"
  },
  "latex_envs": {
   "LaTeX_envs_menu_present": true,
   "autoclose": false,
   "autocomplete": true,
   "bibliofile": "biblio.bib",
   "cite_by": "apalike",
   "current_citInitial": 1,
   "eqLabelWithNumbers": true,
   "eqNumInitial": 1,
   "hotkeys": {
    "equation": "Ctrl-E",
    "itemize": "Ctrl-I"
   },
   "labels_anchors": false,
   "latex_user_defs": false,
   "report_style_numbering": false,
   "user_envs_cfg": false
  }
 },
 "nbformat": 4,
 "nbformat_minor": 5
}
