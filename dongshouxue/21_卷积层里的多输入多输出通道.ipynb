{
 "cells": [
  {
   "cell_type": "markdown",
   "id": "7dcc0c19",
   "metadata": {},
   "source": [
    "# 1、多输入多输出通道"
   ]
  },
  {
   "cell_type": "markdown",
   "id": "0de92c1c",
   "metadata": {},
   "source": [
    "实现多输入通道互相关运算"
   ]
  },
  {
   "cell_type": "code",
   "execution_count": 1,
   "id": "20e812bd",
   "metadata": {},
   "outputs": [],
   "source": [
    "import torch\n",
    "from d2l import torch as d2l\n",
    "\n",
    "def corr2d_multi_in(X,K):       #X,K 为3d的 第一维是通道数  \n",
    "    return sum(d2l.corr2d(x,k) for x , k in zip (X ,K))    #对每一个通道数变量，取小矩阵"
   ]
  },
  {
   "cell_type": "markdown",
   "id": "2a4a428a",
   "metadata": {},
   "source": [
    "验证互相关运算的输出"
   ]
  },
  {
   "cell_type": "code",
   "execution_count": 3,
   "id": "35a411bc",
   "metadata": {},
   "outputs": [
    {
     "data": {
      "text/plain": [
       "tensor([[ 56.,  72.],\n",
       "        [104., 120.]])"
      ]
     },
     "execution_count": 3,
     "metadata": {},
     "output_type": "execute_result"
    }
   ],
   "source": [
    "X = torch.tensor([[[0.0,1.0,2.0],[3.0,4.0,5.0],[6.0,7.0,8.0]],\n",
    "                  [[1.0,2.0,3.0],[4.0,5.0,6.0],[7.0,8.0,9.0]]\n",
    "                 ])\n",
    "K = torch.tensor([[[0.0,1.0],[2.0,3.0]],[[1.0,2.0],[3.0,4.0]]])\n",
    "\n",
    "corr2d_multi_in(X,K)\n"
   ]
  },
  {
   "cell_type": "markdown",
   "id": "97fddea3",
   "metadata": {},
   "source": [
    "## 1.2、计算多个通道的输出的互相关函数"
   ]
  },
  {
   "cell_type": "code",
   "execution_count": 4,
   "id": "f0f1b3ec",
   "metadata": {},
   "outputs": [
    {
     "data": {
      "text/plain": [
       "torch.Size([3, 2, 2, 2])"
      ]
     },
     "execution_count": 4,
     "metadata": {},
     "output_type": "execute_result"
    }
   ],
   "source": [
    "def corr2d_multi_in_out(X,K):  #X输入为3d, K为4d ；【个数(输出通道)，通道数，高，宽】\n",
    "    return torch.stack([corr2d_multi_in(X,k) for k in K],0) #stack是一个个堆叠操作\n",
    "K = torch.stack((K,K+1,K+2),0)  #三个卷积核堆叠\n",
    "K.shape"
   ]
  },
  {
   "cell_type": "code",
   "execution_count": 5,
   "id": "24256669",
   "metadata": {},
   "outputs": [
    {
     "data": {
      "text/plain": [
       "tensor([[[ 56.,  72.],\n",
       "         [104., 120.]],\n",
       "\n",
       "        [[ 76., 100.],\n",
       "         [148., 172.]],\n",
       "\n",
       "        [[ 96., 128.],\n",
       "         [192., 224.]]])"
      ]
     },
     "execution_count": 5,
     "metadata": {},
     "output_type": "execute_result"
    }
   ],
   "source": [
    "corr2d_multi_in_out(X,K)"
   ]
  },
  {
   "cell_type": "markdown",
   "id": "3bfcb7f4",
   "metadata": {},
   "source": [
    "# 2、1 * 1卷积"
   ]
  },
  {
   "cell_type": "markdown",
   "id": "c6339e1d",
   "metadata": {},
   "source": [
    "1 * 1 卷积等效于全连接层"
   ]
  },
  {
   "cell_type": "code",
   "execution_count": 10,
   "id": "dfe946e0",
   "metadata": {},
   "outputs": [],
   "source": [
    "def corr2d_multi_in_out_1x1(X,K):           #1 *1 的多输入多输出的互相关的操作\n",
    "    c_i,h ,w = X.shape\n",
    "    c_o = K.shape[0]\n",
    "    X = X.reshape((c_i,h*w))             #将高，宽拉成一条0为向量\n",
    "    K = K.reshape((c_o,c_i))\n",
    "    Y = torch.matmul(K,X)\n",
    "    return Y.reshape((c_o,h,w))           # c_0不变，后面一维向量再reshape回h*w矩阵\n",
    "\n",
    "X = torch.normal(0,1,(3,3,3))            #输入为3*3*3\n",
    "K = torch.normal(0,1,(2,3,1,1))          #核 2*3*1*1\n",
    "\n",
    "Y1 = corr2d_multi_in_out_1x1(X,K)\n",
    "Y2 = corr2d_multi_in_out(X,K)\n",
    "assert float(torch.abs(Y1-Y2).sum()) <1e-6"
   ]
  }
 ],
 "metadata": {
  "kernelspec": {
   "display_name": "Python [conda env:torch18]",
   "language": "python",
   "name": "conda-env-torch18-py"
  },
  "language_info": {
   "codemirror_mode": {
    "name": "ipython",
    "version": 3
   },
   "file_extension": ".py",
   "mimetype": "text/x-python",
   "name": "python",
   "nbconvert_exporter": "python",
   "pygments_lexer": "ipython3",
   "version": "3.8.12"
  },
  "latex_envs": {
   "LaTeX_envs_menu_present": true,
   "autoclose": false,
   "autocomplete": true,
   "bibliofile": "biblio.bib",
   "cite_by": "apalike",
   "current_citInitial": 1,
   "eqLabelWithNumbers": true,
   "eqNumInitial": 1,
   "hotkeys": {
    "equation": "Ctrl-E",
    "itemize": "Ctrl-I"
   },
   "labels_anchors": false,
   "latex_user_defs": false,
   "report_style_numbering": false,
   "user_envs_cfg": false
  }
 },
 "nbformat": 4,
 "nbformat_minor": 5
}
