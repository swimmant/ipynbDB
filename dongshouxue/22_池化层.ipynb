{
 "cells": [
  {
   "cell_type": "markdown",
   "id": "3d3f8461",
   "metadata": {},
   "source": [
    "# 1、池化层"
   ]
  },
  {
   "cell_type": "markdown",
   "id": "cb8fccc5",
   "metadata": {},
   "source": [
    "实现池化层的正向传播"
   ]
  },
  {
   "cell_type": "code",
   "execution_count": 6,
   "id": "986777f6",
   "metadata": {},
   "outputs": [],
   "source": [
    "import torch\n",
    "from torch import nn\n",
    "from d2l import torch as d2l\n",
    "\n",
    "def pool2d(X,pool_size,mode='max'):          #对X层做 （pool_ize）的池化；最大池化或者平均池化      \n",
    "    p_h,p_w =pool_size                       #拿到池化核的高和宽\n",
    "    Y = torch.zeros((X.shape[0]-p_h+1,X.shape[1]-p_w+1))      #没有pad和stride;限值了遍历下标，也不会越界\n",
    "    for i in range(Y.shape[0]):                                \n",
    "        for j in range(Y.shape[1]):                              \n",
    "            if mode == 'max':\n",
    "                Y[i,j] = X[i:i+p_h,j:j+p_w].max()               \n",
    "            elif mode == 'avg':\n",
    "                Y[i,j] = X[i:i+p_h,j:j+p_w].mean()\n",
    "    return Y"
   ]
  },
  {
   "cell_type": "markdown",
   "id": "cf889da6",
   "metadata": {},
   "source": [
    "验证最大池化的输出"
   ]
  },
  {
   "cell_type": "code",
   "execution_count": 7,
   "id": "682e791c",
   "metadata": {},
   "outputs": [
    {
     "data": {
      "text/plain": [
       "tensor([[4., 5.],\n",
       "        [7., 8.]])"
      ]
     },
     "execution_count": 7,
     "metadata": {},
     "output_type": "execute_result"
    }
   ],
   "source": [
    "X = torch.tensor([[0.0,1.0,2.0],[3.0,4.0,5.0],[6.0,7.0,8.0]])\n",
    "pool2d(X,(2,2))"
   ]
  },
  {
   "cell_type": "markdown",
   "id": "eb3ad0ae",
   "metadata": {},
   "source": [
    "验证平均池化"
   ]
  },
  {
   "cell_type": "code",
   "execution_count": 8,
   "id": "cce60584",
   "metadata": {},
   "outputs": [
    {
     "data": {
      "text/plain": [
       "tensor([[2., 3.],\n",
       "        [5., 6.]])"
      ]
     },
     "execution_count": 8,
     "metadata": {},
     "output_type": "execute_result"
    }
   ],
   "source": [
    "pool2d(X,(2,2),'avg')"
   ]
  },
  {
   "cell_type": "markdown",
   "id": "d92e6ca5",
   "metadata": {},
   "source": [
    "## 1.2、填充和步幅"
   ]
  },
  {
   "cell_type": "code",
   "execution_count": 9,
   "id": "678af43d",
   "metadata": {},
   "outputs": [
    {
     "data": {
      "text/plain": [
       "tensor([[[[ 0.,  1.,  2.,  3.],\n",
       "          [ 4.,  5.,  6.,  7.],\n",
       "          [ 8.,  9., 10., 11.],\n",
       "          [12., 13., 14., 15.]]]])"
      ]
     },
     "execution_count": 9,
     "metadata": {},
     "output_type": "execute_result"
    }
   ],
   "source": [
    "X = torch.arange(16,dtype=torch.float32).reshape((1,1,4,4))\n",
    "X"
   ]
  },
  {
   "cell_type": "markdown",
   "id": "8efe8aaf",
   "metadata": {},
   "source": [
    "直接调用torch中的maxpooling ；框架中步幅和池化窗口大小相同"
   ]
  },
  {
   "cell_type": "code",
   "execution_count": 11,
   "id": "81635298",
   "metadata": {},
   "outputs": [
    {
     "data": {
      "text/plain": [
       "tensor([[[[ 5.,  7.],\n",
       "          [13., 15.]]]])"
      ]
     },
     "execution_count": 11,
     "metadata": {},
     "output_type": "execute_result"
    }
   ],
   "source": [
    "pool2d = nn.MaxPool2d(2)      #3是3 * 3的窗口 ；torch中窗口和窗口是不会重合的\n",
    "pool2d(X)"
   ]
  },
  {
   "cell_type": "markdown",
   "id": "98c9b85b",
   "metadata": {},
   "source": [
    "填充和步幅可以手动设定"
   ]
  },
  {
   "cell_type": "code",
   "execution_count": 12,
   "id": "3d687c97",
   "metadata": {},
   "outputs": [
    {
     "data": {
      "text/plain": [
       "tensor([[[[ 5.,  7.],\n",
       "          [13., 15.]]]])"
      ]
     },
     "execution_count": 12,
     "metadata": {},
     "output_type": "execute_result"
    }
   ],
   "source": [
    "pool2d = nn.MaxPool2d(3,padding=1,stride=2)\n",
    "pool2d(X)"
   ]
  },
  {
   "cell_type": "markdown",
   "id": "d03d2d79",
   "metadata": {},
   "source": [
    "设定一个任意大小的矩阵池化窗口，并分别设定填充的步幅的高度和宽度"
   ]
  },
  {
   "cell_type": "code",
   "execution_count": 13,
   "id": "40915aed",
   "metadata": {},
   "outputs": [
    {
     "data": {
      "text/plain": [
       "tensor([[[[ 1.,  3.],\n",
       "          [ 9., 11.],\n",
       "          [13., 15.]]]])"
      ]
     },
     "execution_count": 13,
     "metadata": {},
     "output_type": "execute_result"
    }
   ],
   "source": [
    "pool2d = nn.MaxPool2d((2,3),padding=(1,1),stride=(2,3))\n",
    "pool2d(X)"
   ]
  },
  {
   "cell_type": "markdown",
   "id": "824dc3e2",
   "metadata": {},
   "source": [
    "## 1.3、池化层在每个通道上单独运算"
   ]
  },
  {
   "cell_type": "code",
   "execution_count": 17,
   "id": "9a157dac",
   "metadata": {},
   "outputs": [
    {
     "data": {
      "text/plain": [
       "tensor([[[[ 0.,  1.,  2.,  3.],\n",
       "          [ 4.,  5.,  6.,  7.],\n",
       "          [ 8.,  9., 10., 11.],\n",
       "          [12., 13., 14., 15.]],\n",
       "\n",
       "         [[ 1.,  2.,  3.,  4.],\n",
       "          [ 5.,  6.,  7.,  8.],\n",
       "          [ 9., 10., 11., 12.],\n",
       "          [13., 14., 15., 16.]]]])"
      ]
     },
     "execution_count": 17,
     "metadata": {},
     "output_type": "execute_result"
    }
   ],
   "source": [
    "X = torch.cat((X,X+1),1)\n",
    "X"
   ]
  },
  {
   "cell_type": "code",
   "execution_count": 18,
   "id": "318ed96e",
   "metadata": {},
   "outputs": [
    {
     "data": {
      "text/plain": [
       "tensor([[[[ 5.,  7.],\n",
       "          [13., 15.]],\n",
       "\n",
       "         [[ 6.,  8.],\n",
       "          [14., 16.]]]])"
      ]
     },
     "execution_count": 18,
     "metadata": {},
     "output_type": "execute_result"
    }
   ],
   "source": [
    "pool2d = nn.MaxPool2d(3,padding=1,stride=2)\n",
    "pool2d(X)"
   ]
  }
 ],
 "metadata": {
  "kernelspec": {
   "display_name": "Python [conda env:torch18]",
   "language": "python",
   "name": "conda-env-torch18-py"
  },
  "language_info": {
   "codemirror_mode": {
    "name": "ipython",
    "version": 3
   },
   "file_extension": ".py",
   "mimetype": "text/x-python",
   "name": "python",
   "nbconvert_exporter": "python",
   "pygments_lexer": "ipython3",
   "version": "3.8.12"
  },
  "latex_envs": {
   "LaTeX_envs_menu_present": true,
   "autoclose": false,
   "autocomplete": true,
   "bibliofile": "biblio.bib",
   "cite_by": "apalike",
   "current_citInitial": 1,
   "eqLabelWithNumbers": true,
   "eqNumInitial": 1,
   "hotkeys": {
    "equation": "Ctrl-E",
    "itemize": "Ctrl-I"
   },
   "labels_anchors": false,
   "latex_user_defs": false,
   "report_style_numbering": false,
   "user_envs_cfg": false
  }
 },
 "nbformat": 4,
 "nbformat_minor": 5
}
